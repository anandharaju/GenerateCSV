{
 "cells": [
  {
   "cell_type": "code",
   "execution_count": null,
   "metadata": {},
   "outputs": [],
   "source": [
    "import os\n",
    "\n",
    "path = 'D:\\\\08_Dataset\\\\Win32\\\\Win32_EXE'\n",
    "csv = 'D:\\\\03_GitWorks\\\\MalConv-keras\\\\malware.csv'\n",
    "\n",
    "with open(csv,'w') as f:\n",
    "    for file in os.listdir(path):\n",
    "        print(file)\n",
    "        f.write(\"D:\\\\08_Dataset\\\\Win32\\\\Win32_EXE\\\\\"+file+\",1\\n\")"
   ]
  }
 ],
 "metadata": {
  "kernelspec": {
   "display_name": "Python 3",
   "language": "python",
   "name": "python3"
  },
  "language_info": {
   "codemirror_mode": {
    "name": "ipython",
    "version": 3
   },
   "file_extension": ".py",
   "mimetype": "text/x-python",
   "name": "python",
   "nbconvert_exporter": "python",
   "pygments_lexer": "ipython3",
   "version": "3.7.1"
  }
 },
 "nbformat": 4,
 "nbformat_minor": 2
}
